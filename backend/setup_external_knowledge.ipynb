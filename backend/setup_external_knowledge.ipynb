{
 "cells": [
  {
   "cell_type": "code",
   "execution_count": 1,
   "metadata": {},
   "outputs": [],
   "source": [
    "import chromadb\n",
    "from chromadb.utils import embedding_functions\n",
    "import json\n",
    "import pandas as pd"
   ]
  },
  {
   "cell_type": "code",
   "execution_count": 2,
   "metadata": {},
   "outputs": [],
   "source": [
    "# initialize client and create collection\n",
    "client = chromadb.PersistentClient(path='/chromastore')\n",
    "collection = client.create_collection(name=\"thrombosis_collection\")\n"
   ]
  },
  {
   "cell_type": "code",
   "execution_count": 3,
   "metadata": {},
   "outputs": [],
   "source": [
    "collection = client.get_collection(name=\"thrombosis_collection\")\n",
    "default_ef = embedding_functions.DefaultEmbeddingFunction()"
   ]
  },
  {
   "cell_type": "code",
   "execution_count": 8,
   "metadata": {},
   "outputs": [],
   "source": [
    "# Add paths to your CSV of external knowledge (column description, value descriptions etc)\n",
    "lab_csv = \"C:/Users/Ishaan/Documents/Text to SQL/dev_20230613/dev_databases/thrombosis_prediction/database_description/Laboratory.csv\"\n",
    "examination_csv = \"C:/Users/Ishaan/Documents/Text to SQL/dev_20230613/dev_databases/thrombosis_prediction/database_description/Examination.csv\"\n",
    "patient_csv = \"C:/Users/Ishaan/Documents/Text to SQL/dev_20230613/dev_databases/thrombosis_prediction/database_description/Patient.csv\"\n",
    "\n",
    "# Create a collection based on the default embedding function all mini llm v6\n",
    "ID = 0\n",
    "for csv in [lab_csv, examination_csv, patient_csv]:\n",
    "    df = pd.read_csv(csv)\n",
    "\n",
    "    for ind in df.index:\n",
    "        row = f'{df[\"original_column_name\"][ind]}, {df[\"column_name\"][ind]} , {df[\"column_description\"][ind]} , {df[\"data_format\"][ind]}, {df[\"value_description\"][ind]}'\n",
    "        collection.add(documents=[row],ids=[f\"id{ID}\"])\n",
    "        ID+=1\n"
   ]
  },
  {
   "cell_type": "code",
   "execution_count": 11,
   "metadata": {},
   "outputs": [],
   "source": [
    "# 1155 1157 1159 1172 1176 1177 1178 1188 1196 1197 1198 1199 1204 1206 list of query id in dev.json that needs external knowledge\n",
    "ans = collection.query(\n",
    "    query_texts=[\"List all patients who were born in 1937 whose total cholesterol was beyond the normal range\"],\n",
    "    n_results=3\n",
    ")"
   ]
  },
  {
   "cell_type": "code",
   "execution_count": 12,
   "metadata": {},
   "outputs": [
    {
     "name": "stdout",
     "output_type": "stream",
     "text": [
      "[['T-CHO, total cholesterol , total cholesterol , integer, Commonsense evidence:\\nNormal range: N < 250', 'TG, triglyceride , triglyceride , integer, Commonsense evidence:\\n\\nNormal range: N < 200', 'GLU, blood glucose , blood glucose , integer, Commonsense evidence:\\nNormal range: N < 180']]\n"
     ]
    }
   ],
   "source": [
    "print(ans[\"documents\"])"
   ]
  },
  {
   "cell_type": "code",
   "execution_count": null,
   "metadata": {},
   "outputs": [],
   "source": []
  }
 ],
 "metadata": {
  "kernelspec": {
   "display_name": "LLM",
   "language": "python",
   "name": "python3"
  },
  "language_info": {
   "codemirror_mode": {
    "name": "ipython",
    "version": 3
   },
   "file_extension": ".py",
   "mimetype": "text/x-python",
   "name": "python",
   "nbconvert_exporter": "python",
   "pygments_lexer": "ipython3",
   "version": "3.9.17"
  },
  "orig_nbformat": 4
 },
 "nbformat": 4,
 "nbformat_minor": 2
}
