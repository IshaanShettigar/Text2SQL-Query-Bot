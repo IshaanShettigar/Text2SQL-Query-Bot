{
 "cells": [
  {
   "cell_type": "code",
   "execution_count": 30,
   "metadata": {},
   "outputs": [],
   "source": [
    "import chromadb\n",
    "from chromadb.utils import embedding_functions\n",
    "import json\n",
    "import pandas as pd\n",
    "import random"
   ]
  },
  {
   "cell_type": "code",
   "execution_count": null,
   "metadata": {},
   "outputs": [],
   "source": []
  },
  {
   "cell_type": "code",
   "execution_count": 31,
   "metadata": {},
   "outputs": [],
   "source": [
    "# initialize client and create collection\n",
    "client = chromadb.PersistentClient(path='/chromastore')\n",
    "collection = client.create_collection(name=\"thrombosis_collection\") # uncomment on first time\n"
   ]
  },
  {
   "cell_type": "code",
   "execution_count": 32,
   "metadata": {},
   "outputs": [],
   "source": [
    "collection = client.get_collection(name=\"thrombosis_collection\")\n",
    "default_ef = embedding_functions.DefaultEmbeddingFunction()"
   ]
  },
  {
   "cell_type": "code",
   "execution_count": 33,
   "metadata": {},
   "outputs": [
    {
     "name": "stderr",
     "output_type": "stream",
     "text": [
      "Add of existing embedding ID: id0\n",
      "Add of existing embedding ID: id1\n",
      "Add of existing embedding ID: id2\n",
      "Add of existing embedding ID: id3\n",
      "Add of existing embedding ID: id4\n",
      "Add of existing embedding ID: id5\n",
      "Add of existing embedding ID: id6\n",
      "Add of existing embedding ID: id7\n",
      "Add of existing embedding ID: id8\n",
      "Add of existing embedding ID: id9\n",
      "Add of existing embedding ID: id10\n",
      "Add of existing embedding ID: id11\n",
      "Add of existing embedding ID: id12\n",
      "Add of existing embedding ID: id0\n",
      "Add of existing embedding ID: id1\n",
      "Add of existing embedding ID: id2\n",
      "Add of existing embedding ID: id3\n",
      "Add of existing embedding ID: id4\n",
      "Add of existing embedding ID: id5\n",
      "Add of existing embedding ID: id6\n"
     ]
    }
   ],
   "source": [
    "collection.delete()"
   ]
  },
  {
   "cell_type": "code",
   "execution_count": 34,
   "metadata": {},
   "outputs": [],
   "source": [
    "# Add paths to your CSV of external knowledge (column description, value descriptions etc)\n",
    "lab_csv = \"./external knowledge/Laboratory.csv\"\n",
    "examination_csv = \"./external knowledge/Examination.csv\"\n",
    "patient_csv = \"./external knowledge/Patient.csv\"\n",
    "\n",
    "# Create a collection based on the default embedding function all mini llm v6\n",
    "# ID = 0\n",
    "for csv in [lab_csv, examination_csv, patient_csv]:\n",
    "    df = pd.read_csv(csv)\n",
    "\n",
    "    for ind in df.index:\n",
    "        row = f'{df[\"original_column_name\"][ind]}, {df[\"column_name\"][ind]} , {df[\"column_description\"][ind]} , {df[\"data_format\"][ind]}, {df[\"value_description\"][ind]}'\n",
    "        collection.add(documents=[row],ids=[f\"id{random.randint(1,10**5)}\"])\n"
   ]
  },
  {
   "cell_type": "code",
   "execution_count": 35,
   "metadata": {},
   "outputs": [],
   "source": [
    "# 1155 1157 1159 1172 1176 1177 1178 1188 1196 1197 1198 1199 1204 1206 list of query id in dev.json that needs external knowledge\n",
    "ans = collection.query(\n",
    "    query_texts=[\"How many male patients have elevated total bilirubin count?\"],\n",
    "    n_results=1\n",
    ")"
   ]
  },
  {
   "cell_type": "code",
   "execution_count": 36,
   "metadata": {},
   "outputs": [
    {
     "name": "stdout",
     "output_type": "stream",
     "text": [
      "T-BIL, total bilirubin , total bilirubin , real, Commonsense evidence:\n",
      "\n",
      "Normal range: N < 2.0\n"
     ]
    }
   ],
   "source": [
    "print(ans[\"documents\"][0][0])"
   ]
  }
 ],
 "metadata": {
  "kernelspec": {
   "display_name": "LLM",
   "language": "python",
   "name": "python3"
  },
  "language_info": {
   "codemirror_mode": {
    "name": "ipython",
    "version": 3
   },
   "file_extension": ".py",
   "mimetype": "text/x-python",
   "name": "python",
   "nbconvert_exporter": "python",
   "pygments_lexer": "ipython3",
   "version": "3.9.17"
  },
  "orig_nbformat": 4
 },
 "nbformat": 4,
 "nbformat_minor": 2
}
