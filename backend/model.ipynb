{
 "cells": [
  {
   "cell_type": "markdown",
   "metadata": {},
   "source": [
    "## Model Setup"
   ]
  },
  {
   "cell_type": "code",
   "execution_count": 2,
   "metadata": {
    "execution": {
     "iopub.execute_input": "2023-07-26T17:54:04.109420Z",
     "iopub.status.busy": "2023-07-26T17:54:04.108996Z",
     "iopub.status.idle": "2023-07-26T17:54:04.120388Z",
     "shell.execute_reply": "2023-07-26T17:54:04.119708Z",
     "shell.execute_reply.started": "2023-07-26T17:54:04.109396Z"
    },
    "tags": []
   },
   "outputs": [],
   "source": [
    "model_name = \"NumbersStation/nsql-350M\" # <-- You can switch to other models like \"NumbersStation/nsql-6B\""
   ]
  },
  {
   "cell_type": "code",
   "execution_count": 3,
   "metadata": {
    "execution": {
     "iopub.execute_input": "2023-07-26T17:54:04.286491Z",
     "iopub.status.busy": "2023-07-26T17:54:04.286167Z",
     "iopub.status.idle": "2023-07-26T17:54:09.554296Z",
     "shell.execute_reply": "2023-07-26T17:54:09.553527Z",
     "shell.execute_reply.started": "2023-07-26T17:54:04.286468Z"
    },
    "tags": []
   },
   "outputs": [
    {
     "name": "stderr",
     "output_type": "stream",
     "text": [
      "c:\\ProgramData\\miniconda3\\envs\\tf\\lib\\site-packages\\tqdm\\auto.py:21: TqdmWarning: IProgress not found. Please update jupyter and ipywidgets. See https://ipywidgets.readthedocs.io/en/stable/user_install.html\n",
      "  from .autonotebook import tqdm as notebook_tqdm\n",
      "Downloading (…)okenizer_config.json: 100%|██████████| 237/237 [00:00<00:00, 59.4kB/s]\n",
      "Downloading (…)olve/main/vocab.json: 100%|██████████| 798k/798k [00:00<00:00, 850kB/s]\n",
      "Downloading (…)olve/main/merges.txt: 100%|██████████| 456k/456k [00:00<00:00, 1.97MB/s]\n",
      "Downloading (…)/main/tokenizer.json: 100%|██████████| 2.11M/2.11M [00:00<00:00, 56.1MB/s]\n",
      "Downloading (…)in/added_tokens.json: 100%|██████████| 1.08k/1.08k [00:00<00:00, 178kB/s]\n",
      "Downloading (…)cial_tokens_map.json: 100%|██████████| 99.0/99.0 [00:00<00:00, 8.74kB/s]\n",
      "Downloading (…)lve/main/config.json: 100%|██████████| 1.01k/1.01k [00:00<00:00, 285kB/s]\n",
      "Downloading pytorch_model.bin: 100%|██████████| 1.51G/1.51G [00:50<00:00, 29.8MB/s]\n",
      "Downloading (…)neration_config.json: 100%|██████████| 115/115 [00:00<00:00, 23.1kB/s]\n"
     ]
    }
   ],
   "source": [
    "from transformers import AutoTokenizer, AutoModelForCausalLM\n",
    "tokenizer = AutoTokenizer.from_pretrained(model_name)\n",
    "model = AutoModelForCausalLM.from_pretrained(model_name)"
   ]
  },
  {
   "cell_type": "markdown",
   "metadata": {},
   "source": [
    "## Setup table schema\n",
    "\n",
    "This is a simple example of database table schema if you want to connect to your own PostgreSQL or SQlite please refer to [other notebooks](https://github.com/NumbersStationAI/NSQL/tree/main/examples)."
   ]
  },
  {
   "cell_type": "code",
   "execution_count": 4,
   "metadata": {
    "execution": {
     "iopub.execute_input": "2023-07-26T17:54:09.555794Z",
     "iopub.status.busy": "2023-07-26T17:54:09.555447Z",
     "iopub.status.idle": "2023-07-26T17:54:09.580203Z",
     "shell.execute_reply": "2023-07-26T17:54:09.579442Z",
     "shell.execute_reply.started": "2023-07-26T17:54:09.555775Z"
    },
    "tags": []
   },
   "outputs": [],
   "source": [
    "table_schema = \"\"\"CREATE TABLE stadium (\n",
    "    stadium_id number,\n",
    "    location text,\n",
    "    name text,\n",
    "    capacity number,\n",
    "    highest number,\n",
    "    lowest number,\n",
    "    average number\n",
    ")\n",
    "\n",
    "CREATE TABLE singer (\n",
    "    singer_id number,\n",
    "    name text,\n",
    "    country text,\n",
    "    song_name text,\n",
    "    song_release_year text,\n",
    "    age number,\n",
    "    is_male others\n",
    ")\n",
    "\n",
    "CREATE TABLE concert (\n",
    "    concert_id number,\n",
    "    concert_name text,\n",
    "    theme text,\n",
    "    stadium_id text,\n",
    "    year text\n",
    ")\n",
    "\n",
    "CREATE TABLE singer_in_concert (\n",
    "    concert_id number,\n",
    "    singer_id text\n",
    ")\n",
    "\"\"\"\n",
    "\n",
    "question = \"What is the maximum, the average, and the minimum capacity of stadiums ?\"\n",
    "\n",
    "prompt = f\"\"\"{table_schema}\n",
    "\n",
    "-- Using valid SQLite, answer the following questions for the tables provided above.\n",
    "\n",
    "-- {question}\n",
    "\n",
    "SQL: \"\"\""
   ]
  },
  {
   "cell_type": "markdown",
   "metadata": {},
   "source": [
    "## Generate SQL"
   ]
  },
  {
   "cell_type": "code",
   "execution_count": 7,
   "metadata": {
    "execution": {
     "iopub.execute_input": "2023-07-26T17:55:04.586239Z",
     "iopub.status.busy": "2023-07-26T17:55:04.585800Z",
     "iopub.status.idle": "2023-07-26T17:55:07.043773Z",
     "shell.execute_reply": "2023-07-26T17:55:07.043013Z",
     "shell.execute_reply.started": "2023-07-26T17:55:04.586214Z"
    },
    "tags": []
   },
   "outputs": [
    {
     "name": "stdout",
     "output_type": "stream",
     "text": [
      " \n",
      "SELECT MAX(capacity), AVG(capacity), MIN(capacity) FROM stadium;\n"
     ]
    }
   ],
   "source": [
    "input_ids = tokenizer(prompt, return_tensors=\"pt\").input_ids\n",
    "generated_ids = model.generate(input_ids, max_length=500)\n",
    "output = tokenizer.decode(generated_ids[0], skip_special_tokens=True)\n",
    "output = output.split('SQL:')[-1]\n",
    "\n",
    "print(output)"
   ]
  }
 ],
 "metadata": {
  "kernelspec": {
   "display_name": "Python 3 (ipykernel)",
   "language": "python",
   "name": "python3"
  },
  "language_info": {
   "codemirror_mode": {
    "name": "ipython",
    "version": 3
   },
   "file_extension": ".py",
   "mimetype": "text/x-python",
   "name": "python",
   "nbconvert_exporter": "python",
   "pygments_lexer": "ipython3",
   "version": "3.9.16"
  }
 },
 "nbformat": 4,
 "nbformat_minor": 4
}
